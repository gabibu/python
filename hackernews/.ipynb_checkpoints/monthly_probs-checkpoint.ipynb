{
 "cells": [
  {
   "cell_type": "code",
   "execution_count": 1,
   "id": "141f6c02",
   "metadata": {},
   "outputs": [],
   "source": [
    "import pandas as pd\n",
    "import numpy as np\n",
    "from datetime import datetime\n",
    "from tqdm import tqdm\n",
    "tqdm.pandas()\n",
    "from collections import defaultdict"
   ]
  },
  {
   "cell_type": "code",
   "execution_count": 2,
   "id": "1f710651",
   "metadata": {},
   "outputs": [],
   "source": [
    "sommoth_count = 1.0"
   ]
  },
  {
   "cell_type": "code",
   "execution_count": 3,
   "id": "08b4ea79",
   "metadata": {},
   "outputs": [],
   "source": [
    "technologies = ['kubernetes','linux','windows','solarwinds','garmin','aws','docker','github','wordpress','rundeck']"
   ]
  },
  {
   "cell_type": "code",
   "execution_count": 4,
   "id": "964deba9",
   "metadata": {},
   "outputs": [],
   "source": [
    "df = pd.read_json(\"data/hacker_news_data.json\")\n",
    "df = df.where(pd.notnull(df), None)"
   ]
  },
  {
   "cell_type": "code",
   "execution_count": 6,
   "id": "560d2061",
   "metadata": {},
   "outputs": [
    {
     "name": "stdout",
     "output_type": "stream",
     "text": [
      "<class 'pandas.core.frame.DataFrame'>\n",
      "RangeIndex: 118030 entries, 0 to 118029\n",
      "Data columns (total 14 columns):\n",
      " #   Column       Non-Null Count   Dtype  \n",
      "---  ------       --------------   -----  \n",
      " 0   by           112685 non-null  object \n",
      " 1   descendants  86344 non-null   float64\n",
      " 2   id           118030 non-null  int64  \n",
      " 3   kids         33282 non-null   object \n",
      " 4   score        112685 non-null  float64\n",
      " 5   time         118030 non-null  int64  \n",
      " 6   title        112440 non-null  object \n",
      " 7   type         118030 non-null  object \n",
      " 8   url          106144 non-null  object \n",
      " 9   dead         27189 non-null   float64\n",
      " 10  text         5821 non-null    object \n",
      " 11  deleted      5343 non-null    float64\n",
      " 12  poll         245 non-null     float64\n",
      " 13  parts        20 non-null      object \n",
      "dtypes: float64(5), int64(2), object(7)\n",
      "memory usage: 12.6+ MB\n"
     ]
    }
   ],
   "source": [
    "df.info()"
   ]
  },
  {
   "cell_type": "code",
   "execution_count": 8,
   "id": "b4406d28",
   "metadata": {},
   "outputs": [
    {
     "name": "stderr",
     "output_type": "stream",
     "text": [
      "100%|█| 118030/118030 [00:00<00:00, 5589\n"
     ]
    }
   ],
   "source": [
    "df['datetime'] = df['time'].progress_apply(datetime.utcfromtimestamp) "
   ]
  },
  {
   "cell_type": "code",
   "execution_count": 9,
   "id": "97dcb705",
   "metadata": {},
   "outputs": [
    {
     "name": "stderr",
     "output_type": "stream",
     "text": [
      "100%|█| 118030/118030 [00:00<00:00, 2009\n"
     ]
    }
   ],
   "source": [
    "df['month'] = df['datetime'].progress_apply(lambda article_datetime: article_datetime.month)"
   ]
  },
  {
   "cell_type": "code",
   "execution_count": 11,
   "id": "0d29a124",
   "metadata": {},
   "outputs": [
    {
     "data": {
      "text/plain": [
       "(Timestamp('2021-01-01 03:10:08'), Timestamp('2021-04-12 14:05:21'))"
      ]
     },
     "execution_count": 11,
     "metadata": {},
     "output_type": "execute_result"
    }
   ],
   "source": [
    "df['datetime'].min(), df['datetime'].max()"
   ]
  },
  {
   "cell_type": "code",
   "execution_count": null,
   "id": "0be45b02",
   "metadata": {},
   "outputs": [],
   "source": [
    "#month 4 is partial so I am not using it."
   ]
  },
  {
   "cell_type": "code",
   "execution_count": 13,
   "id": "ad1440c5",
   "metadata": {},
   "outputs": [
    {
     "data": {
      "text/plain": [
       "105845"
      ]
     },
     "execution_count": 13,
     "metadata": {},
     "output_type": "execute_result"
    }
   ],
   "source": [
    "df = df[df['month'].isin({1,2,3})]\n",
    "len(df)"
   ]
  },
  {
   "cell_type": "code",
   "execution_count": 14,
   "id": "58c83993",
   "metadata": {},
   "outputs": [],
   "source": [
    "def normalize_text(text) -> str:\n",
    "    if text is None:\n",
    "        return ''\n",
    "    \n",
    "    return text.lower()\n",
    "\n",
    "def is_text_contains_technologies(text) -> pd.Series:\n",
    "    is_contained = [technology in text for technology in technologies]\n",
    "    \n",
    "    return pd.Series(is_contained)"
   ]
  },
  {
   "cell_type": "code",
   "execution_count": 15,
   "id": "f965dfee",
   "metadata": {},
   "outputs": [
    {
     "name": "stderr",
     "output_type": "stream",
     "text": [
      "100%|█| 105845/105845 [00:00<00:00, 7416\n"
     ]
    }
   ],
   "source": [
    "df['text'] = df['text'].progress_apply(normalize_text)"
   ]
  },
  {
   "cell_type": "code",
   "execution_count": 16,
   "id": "6bb5ef64",
   "metadata": {},
   "outputs": [
    {
     "name": "stderr",
     "output_type": "stream",
     "text": [
      "100%|█| 105845/105845 [00:00<00:00, 6973\n"
     ]
    }
   ],
   "source": [
    "df['title'] = df['title'].progress_apply(normalize_text)"
   ]
  },
  {
   "cell_type": "code",
   "execution_count": 17,
   "id": "aea64363",
   "metadata": {},
   "outputs": [
    {
     "name": "stderr",
     "output_type": "stream",
     "text": [
      "100%|█| 105845/105845 [00:01<00:00, 6445\n"
     ]
    }
   ],
   "source": [
    "df['all_text'] = df.progress_apply(lambda r: r['title'] +' '+ r['text'], axis=1)"
   ]
  },
  {
   "cell_type": "code",
   "execution_count": 18,
   "id": "4bcd4f89",
   "metadata": {},
   "outputs": [
    {
     "name": "stderr",
     "output_type": "stream",
     "text": [
      "100%|█| 105845/105845 [00:19<00:00, 5485\n"
     ]
    }
   ],
   "source": [
    "df[technologies] = df['all_text'].progress_apply(is_text_contains_technologies)"
   ]
  },
  {
   "cell_type": "code",
   "execution_count": 19,
   "id": "2f3ccf89",
   "metadata": {},
   "outputs": [
    {
     "data": {
      "text/plain": [
       "{1: 36571, 2: 33322, 3: 35952}"
      ]
     },
     "execution_count": 19,
     "metadata": {},
     "output_type": "execute_result"
    }
   ],
   "source": [
    "month_to_number_of_rows = df.groupby(\"month\").size().to_dict()\n",
    "month_to_number_of_rows"
   ]
  },
  {
   "cell_type": "code",
   "execution_count": 20,
   "id": "bc2ed495",
   "metadata": {},
   "outputs": [
    {
     "data": {
      "text/html": [
       "<div>\n",
       "<style scoped>\n",
       "    .dataframe tbody tr th:only-of-type {\n",
       "        vertical-align: middle;\n",
       "    }\n",
       "\n",
       "    .dataframe tbody tr th {\n",
       "        vertical-align: top;\n",
       "    }\n",
       "\n",
       "    .dataframe thead th {\n",
       "        text-align: right;\n",
       "    }\n",
       "</style>\n",
       "<table border=\"1\" class=\"dataframe\">\n",
       "  <thead>\n",
       "    <tr style=\"text-align: right;\">\n",
       "      <th></th>\n",
       "      <th>by</th>\n",
       "      <th>descendants</th>\n",
       "      <th>id</th>\n",
       "      <th>kids</th>\n",
       "      <th>score</th>\n",
       "      <th>time</th>\n",
       "      <th>title</th>\n",
       "      <th>type</th>\n",
       "      <th>url</th>\n",
       "      <th>dead</th>\n",
       "      <th>...</th>\n",
       "      <th>kubernetes</th>\n",
       "      <th>linux</th>\n",
       "      <th>windows</th>\n",
       "      <th>solarwinds</th>\n",
       "      <th>garmin</th>\n",
       "      <th>aws</th>\n",
       "      <th>docker</th>\n",
       "      <th>github</th>\n",
       "      <th>wordpress</th>\n",
       "      <th>rundeck</th>\n",
       "    </tr>\n",
       "  </thead>\n",
       "  <tbody>\n",
       "    <tr>\n",
       "      <th>83600</th>\n",
       "      <td>ddtaylor</td>\n",
       "      <td>0.0</td>\n",
       "      <td>26432760</td>\n",
       "      <td>None</td>\n",
       "      <td>1.0</td>\n",
       "      <td>1615530625</td>\n",
       "      <td>linting html using css (2017)</td>\n",
       "      <td>story</td>\n",
       "      <td>https://bitsofco.de/linting-html-using-css/</td>\n",
       "      <td>NaN</td>\n",
       "      <td>...</td>\n",
       "      <td>False</td>\n",
       "      <td>False</td>\n",
       "      <td>False</td>\n",
       "      <td>False</td>\n",
       "      <td>False</td>\n",
       "      <td>False</td>\n",
       "      <td>False</td>\n",
       "      <td>False</td>\n",
       "      <td>False</td>\n",
       "      <td>False</td>\n",
       "    </tr>\n",
       "    <tr>\n",
       "      <th>23034</th>\n",
       "      <td>vinnyglennon</td>\n",
       "      <td>0.0</td>\n",
       "      <td>25846680</td>\n",
       "      <td>None</td>\n",
       "      <td>3.0</td>\n",
       "      <td>1611152326</td>\n",
       "      <td>mutations have allowed sarscov2 to become resi...</td>\n",
       "      <td>story</td>\n",
       "      <td>https://www.nicd.ac.za/can-i-be-re-infected-wi...</td>\n",
       "      <td>NaN</td>\n",
       "      <td>...</td>\n",
       "      <td>False</td>\n",
       "      <td>False</td>\n",
       "      <td>False</td>\n",
       "      <td>False</td>\n",
       "      <td>False</td>\n",
       "      <td>False</td>\n",
       "      <td>False</td>\n",
       "      <td>False</td>\n",
       "      <td>False</td>\n",
       "      <td>False</td>\n",
       "    </tr>\n",
       "    <tr>\n",
       "      <th>73468</th>\n",
       "      <td>None</td>\n",
       "      <td>NaN</td>\n",
       "      <td>26331107</td>\n",
       "      <td>None</td>\n",
       "      <td>NaN</td>\n",
       "      <td>1614790614</td>\n",
       "      <td></td>\n",
       "      <td>story</td>\n",
       "      <td>None</td>\n",
       "      <td>1.0</td>\n",
       "      <td>...</td>\n",
       "      <td>False</td>\n",
       "      <td>False</td>\n",
       "      <td>False</td>\n",
       "      <td>False</td>\n",
       "      <td>False</td>\n",
       "      <td>False</td>\n",
       "      <td>False</td>\n",
       "      <td>False</td>\n",
       "      <td>False</td>\n",
       "      <td>False</td>\n",
       "    </tr>\n",
       "    <tr>\n",
       "      <th>54542</th>\n",
       "      <td>gshubert17</td>\n",
       "      <td>0.0</td>\n",
       "      <td>26145934</td>\n",
       "      <td>None</td>\n",
       "      <td>1.0</td>\n",
       "      <td>1613415801</td>\n",
       "      <td>texas ercot: rotating outages in progress</td>\n",
       "      <td>story</td>\n",
       "      <td>http://www.ercot.com/eea_info/show/26464</td>\n",
       "      <td>NaN</td>\n",
       "      <td>...</td>\n",
       "      <td>False</td>\n",
       "      <td>False</td>\n",
       "      <td>False</td>\n",
       "      <td>False</td>\n",
       "      <td>False</td>\n",
       "      <td>False</td>\n",
       "      <td>False</td>\n",
       "      <td>False</td>\n",
       "      <td>False</td>\n",
       "      <td>False</td>\n",
       "    </tr>\n",
       "    <tr>\n",
       "      <th>62818</th>\n",
       "      <td>wilsocr88</td>\n",
       "      <td>0.0</td>\n",
       "      <td>26228491</td>\n",
       "      <td>None</td>\n",
       "      <td>1.0</td>\n",
       "      <td>1614019236</td>\n",
       "      <td>usable, or pretty?</td>\n",
       "      <td>story</td>\n",
       "      <td>https://uxdesign.cc/usable-or-pretty-e95455eb0132</td>\n",
       "      <td>NaN</td>\n",
       "      <td>...</td>\n",
       "      <td>False</td>\n",
       "      <td>False</td>\n",
       "      <td>False</td>\n",
       "      <td>False</td>\n",
       "      <td>False</td>\n",
       "      <td>False</td>\n",
       "      <td>False</td>\n",
       "      <td>False</td>\n",
       "      <td>False</td>\n",
       "      <td>False</td>\n",
       "    </tr>\n",
       "  </tbody>\n",
       "</table>\n",
       "<p>5 rows × 27 columns</p>\n",
       "</div>"
      ],
      "text/plain": [
       "                 by  descendants        id  kids  score        time  \\\n",
       "83600      ddtaylor          0.0  26432760  None    1.0  1615530625   \n",
       "23034  vinnyglennon          0.0  25846680  None    3.0  1611152326   \n",
       "73468          None          NaN  26331107  None    NaN  1614790614   \n",
       "54542    gshubert17          0.0  26145934  None    1.0  1613415801   \n",
       "62818     wilsocr88          0.0  26228491  None    1.0  1614019236   \n",
       "\n",
       "                                                   title   type  \\\n",
       "83600                      linting html using css (2017)  story   \n",
       "23034  mutations have allowed sarscov2 to become resi...  story   \n",
       "73468                                                     story   \n",
       "54542          texas ercot: rotating outages in progress  story   \n",
       "62818                                 usable, or pretty?  story   \n",
       "\n",
       "                                                     url  dead  ...  \\\n",
       "83600        https://bitsofco.de/linting-html-using-css/   NaN  ...   \n",
       "23034  https://www.nicd.ac.za/can-i-be-re-infected-wi...   NaN  ...   \n",
       "73468                                               None   1.0  ...   \n",
       "54542           http://www.ercot.com/eea_info/show/26464   NaN  ...   \n",
       "62818  https://uxdesign.cc/usable-or-pretty-e95455eb0132   NaN  ...   \n",
       "\n",
       "      kubernetes  linux  windows solarwinds garmin    aws docker  github  \\\n",
       "83600      False  False    False      False  False  False  False   False   \n",
       "23034      False  False    False      False  False  False  False   False   \n",
       "73468      False  False    False      False  False  False  False   False   \n",
       "54542      False  False    False      False  False  False  False   False   \n",
       "62818      False  False    False      False  False  False  False   False   \n",
       "\n",
       "       wordpress  rundeck  \n",
       "83600      False    False  \n",
       "23034      False    False  \n",
       "73468      False    False  \n",
       "54542      False    False  \n",
       "62818      False    False  \n",
       "\n",
       "[5 rows x 27 columns]"
      ]
     },
     "execution_count": 20,
     "metadata": {},
     "output_type": "execute_result"
    }
   ],
   "source": [
    "df.sample(5)"
   ]
  },
  {
   "cell_type": "code",
   "execution_count": 21,
   "id": "1e62320e",
   "metadata": {},
   "outputs": [],
   "source": [
    "technology_prob = []\n",
    "\n",
    "for technology in technologies:\n",
    "    \n",
    "    technology_month_count = df.groupby(\"month\")[technology].apply(np.sum).to_dict()\n",
    "    \n",
    "    technology_month_count = {month: count + sommoth_count for (month, count) in technology_month_count.items()}\n",
    "    technology_month_count = defaultdict(lambda :  sommoth_count,\n",
    "                                        technology_month_count)\n",
    "    \n",
    "    probs = [technology_month_count[month]/total_count for (month, total_count) in month_to_number_of_rows.items()]\n",
    "    \n",
    "    technology_prob.append((technology, np.mean(probs)))"
   ]
  },
  {
   "cell_type": "code",
   "execution_count": 22,
   "id": "5ce3d024",
   "metadata": {},
   "outputs": [
    {
     "data": {
      "text/html": [
       "<div>\n",
       "<style scoped>\n",
       "    .dataframe tbody tr th:only-of-type {\n",
       "        vertical-align: middle;\n",
       "    }\n",
       "\n",
       "    .dataframe tbody tr th {\n",
       "        vertical-align: top;\n",
       "    }\n",
       "\n",
       "    .dataframe thead th {\n",
       "        text-align: right;\n",
       "    }\n",
       "</style>\n",
       "<table border=\"1\" class=\"dataframe\">\n",
       "  <thead>\n",
       "    <tr style=\"text-align: right;\">\n",
       "      <th></th>\n",
       "      <th>technology</th>\n",
       "      <th>monthly_prob</th>\n",
       "    </tr>\n",
       "  </thead>\n",
       "  <tbody>\n",
       "    <tr>\n",
       "      <th>0</th>\n",
       "      <td>kubernetes</td>\n",
       "      <td>0.003671</td>\n",
       "    </tr>\n",
       "    <tr>\n",
       "      <th>1</th>\n",
       "      <td>linux</td>\n",
       "      <td>0.008317</td>\n",
       "    </tr>\n",
       "    <tr>\n",
       "      <th>2</th>\n",
       "      <td>windows</td>\n",
       "      <td>0.004583</td>\n",
       "    </tr>\n",
       "    <tr>\n",
       "      <th>3</th>\n",
       "      <td>solarwinds</td>\n",
       "      <td>0.001391</td>\n",
       "    </tr>\n",
       "    <tr>\n",
       "      <th>4</th>\n",
       "      <td>garmin</td>\n",
       "      <td>0.000056</td>\n",
       "    </tr>\n",
       "    <tr>\n",
       "      <th>5</th>\n",
       "      <td>aws</td>\n",
       "      <td>0.008233</td>\n",
       "    </tr>\n",
       "    <tr>\n",
       "      <th>6</th>\n",
       "      <td>docker</td>\n",
       "      <td>0.002560</td>\n",
       "    </tr>\n",
       "    <tr>\n",
       "      <th>7</th>\n",
       "      <td>github</td>\n",
       "      <td>0.007205</td>\n",
       "    </tr>\n",
       "    <tr>\n",
       "      <th>8</th>\n",
       "      <td>wordpress</td>\n",
       "      <td>0.001588</td>\n",
       "    </tr>\n",
       "    <tr>\n",
       "      <th>9</th>\n",
       "      <td>rundeck</td>\n",
       "      <td>0.000028</td>\n",
       "    </tr>\n",
       "  </tbody>\n",
       "</table>\n",
       "</div>"
      ],
      "text/plain": [
       "   technology  monthly_prob\n",
       "0  kubernetes      0.003671\n",
       "1       linux      0.008317\n",
       "2     windows      0.004583\n",
       "3  solarwinds      0.001391\n",
       "4      garmin      0.000056\n",
       "5         aws      0.008233\n",
       "6      docker      0.002560\n",
       "7      github      0.007205\n",
       "8   wordpress      0.001588\n",
       "9     rundeck      0.000028"
      ]
     },
     "execution_count": 22,
     "metadata": {},
     "output_type": "execute_result"
    }
   ],
   "source": [
    "technology_prob_df = pd.DataFrame(technology_prob, columns =['technology', 'monthly_prob'])\n",
    "technology_prob_df"
   ]
  },
  {
   "cell_type": "code",
   "execution_count": 23,
   "id": "3de6df37",
   "metadata": {},
   "outputs": [],
   "source": [
    "technology_prob_df.to_parquet(\"data/technology_prob.parquet\")"
   ]
  }
 ],
 "metadata": {
  "kernelspec": {
   "display_name": "Python 3 (ipykernel)",
   "language": "python",
   "name": "python3"
  },
  "language_info": {
   "codemirror_mode": {
    "name": "ipython",
    "version": 3
   },
   "file_extension": ".py",
   "mimetype": "text/x-python",
   "name": "python",
   "nbconvert_exporter": "python",
   "pygments_lexer": "ipython3",
   "version": "3.9.7"
  }
 },
 "nbformat": 4,
 "nbformat_minor": 5
}
